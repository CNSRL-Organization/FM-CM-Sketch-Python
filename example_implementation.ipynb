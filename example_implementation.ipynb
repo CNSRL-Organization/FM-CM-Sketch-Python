{
 "cells": [
  {
   "cell_type": "code",
   "execution_count": 1,
   "id": "b7992854-054f-4770-af3e-674749bdf262",
   "metadata": {},
   "outputs": [],
   "source": [
    "import random\n",
    "import math\n",
    "from collections import Counter\n",
    "from modules.sketch import FlajoletMartinSketch,CountMinSketch \n",
    "\n",
    "with open('ip_addresses.txt', 'r') as file:\n",
    "    lines = file.readlines()\n",
    "    \n",
    "\n",
    "# Remove newline characters from each line and convert to list\n",
    "lines_list = [line.strip() for line in lines]"
   ]
  },
  {
   "cell_type": "code",
   "execution_count": 2,
   "id": "2e72af95-2a87-4728-b377-945692e48490",
   "metadata": {
    "scrolled": true
   },
   "outputs": [
    {
     "name": "stdout",
     "output_type": "stream",
     "text": [
      "Approximate number of distinct elements: 262.68058623801454\n",
      "256\n",
      "278287\n"
     ]
    }
   ],
   "source": [
    "# FM Sketch Example usage\n",
    "fm_bits = 8\n",
    "fm_n = 3\n",
    "\n",
    "fm = FlajoletMartinSketch(fm_bits, fm_n)\n",
    "for i in lines_list:\n",
    "    fm.add_element(int(i))\n",
    "print(\"Approximate number of distinct elements:\", fm.estimate_cardinality())\n",
    "print(len(set(lines_list)))\n",
    "print(len(lines_list))"
   ]
  },
  {
   "cell_type": "code",
   "execution_count": 3,
   "id": "346f3f8c-bbbf-440f-8738-efe0c59658d9",
   "metadata": {},
   "outputs": [
    {
     "name": "stdout",
     "output_type": "stream",
     "text": [
      "1794\n",
      "1794\n"
     ]
    }
   ],
   "source": [
    "#CM Sketch Example Usage\n",
    "# Create a Counter for Ground Truth\n",
    "counter = Counter(lines_list)\n",
    "\n",
    "# Print the count of each element\n",
    "print(counter['1650614882'])\n",
    "# print(len(lines_list))\n",
    "\n",
    "# CM(depth, width, seed = 7727)\n",
    "cms = CountMinSketch(11, 200)\n",
    "for word in lines_list:\n",
    "    # print(int(word))\n",
    "    cms.increment_counters(int(word),1)\n",
    "cm_counts = cms.approximate_count(1650614882)\n",
    "print(cm_counts)"
   ]
  },
  {
   "cell_type": "code",
   "execution_count": null,
   "id": "b51630c2-0e97-4bda-80a1-4aca56f903f5",
   "metadata": {},
   "outputs": [],
   "source": []
  },
  {
   "cell_type": "code",
   "execution_count": null,
   "id": "cd69265f-c735-4d49-be87-a5985d290186",
   "metadata": {},
   "outputs": [],
   "source": []
  }
 ],
 "metadata": {
  "kernelspec": {
   "display_name": "Python 3 (ipykernel)",
   "language": "python",
   "name": "python3"
  },
  "language_info": {
   "codemirror_mode": {
    "name": "ipython",
    "version": 3
   },
   "file_extension": ".py",
   "mimetype": "text/x-python",
   "name": "python",
   "nbconvert_exporter": "python",
   "pygments_lexer": "ipython3",
   "version": "3.9.12"
  }
 },
 "nbformat": 4,
 "nbformat_minor": 5
}
